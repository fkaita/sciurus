{
 "cells": [
  {
   "cell_type": "code",
   "execution_count": 1,
   "id": "eb7bf449",
   "metadata": {},
   "outputs": [],
   "source": [
    "import numpy as np"
   ]
  },
  {
   "cell_type": "code",
   "execution_count": 31,
   "id": "b9ea4c97",
   "metadata": {},
   "outputs": [],
   "source": [
    "x = np.random.normal(1,1,100)\n",
    "y = np.random.normal(1,2,100)\n",
    "H, _, _ = np.histogram2d(x, y, bins=(10, 10))"
   ]
  },
  {
   "cell_type": "code",
   "execution_count": 13,
   "id": "d10fb2db",
   "metadata": {},
   "outputs": [],
   "source": [
    "result = np.where(H == np.amax(H))"
   ]
  },
  {
   "cell_type": "code",
   "execution_count": 15,
   "id": "a75a1e86",
   "metadata": {},
   "outputs": [
    {
     "data": {
      "text/plain": [
       "array([[1., 0., 0., 0., 2., 1., 0., 0., 0., 0.],\n",
       "       [1., 0., 0., 0., 0., 0., 1., 0., 1., 0.],\n",
       "       [1., 1., 2., 0., 2., 2., 0., 0., 1., 0.],\n",
       "       [1., 4., 5., 4., 5., 7., 4., 0., 0., 0.],\n",
       "       [1., 4., 2., 4., 2., 8., 2., 2., 0., 1.],\n",
       "       [0., 1., 3., 2., 3., 4., 0., 0., 1., 1.],\n",
       "       [0., 1., 0., 1., 2., 3., 2., 1., 0., 0.],\n",
       "       [0., 0., 0., 0., 0., 0., 0., 0., 0., 0.],\n",
       "       [0., 0., 1., 0., 1., 0., 0., 0., 0., 0.],\n",
       "       [0., 0., 1., 0., 0., 0., 0., 0., 0., 0.]])"
      ]
     },
     "execution_count": 15,
     "metadata": {},
     "output_type": "execute_result"
    }
   ],
   "source": [
    "H"
   ]
  },
  {
   "cell_type": "code",
   "execution_count": 40,
   "id": "67ee4fc8",
   "metadata": {},
   "outputs": [
    {
     "data": {
      "text/plain": [
       "array([4])"
      ]
     },
     "execution_count": 40,
     "metadata": {},
     "output_type": "execute_result"
    }
   ],
   "source": [
    "result[0]"
   ]
  },
  {
   "cell_type": "code",
   "execution_count": 22,
   "id": "f33e3489",
   "metadata": {},
   "outputs": [],
   "source": [
    "alist = []\n",
    "for i in range(100):\n",
    "    alist.append([np.random.randn(),np.random.randn()])"
   ]
  },
  {
   "cell_type": "code",
   "execution_count": 27,
   "id": "af446a78",
   "metadata": {},
   "outputs": [
    {
     "data": {
      "text/plain": [
       "array([ 2.15463414,  0.14148903,  2.26963993, -0.45465882,  1.79676042,\n",
       "        0.79905127, -0.06657295,  0.02306822, -0.68759125, -1.46093341,\n",
       "        0.55735524, -0.08248686, -0.19396651, -0.38107024, -0.48563149,\n",
       "       -0.54249908,  0.170364  ,  0.83713006, -0.79160521, -0.0878521 ,\n",
       "        0.76339338, -1.85555043,  1.32893267, -0.97428417, -0.83025404,\n",
       "        0.58201321, -0.9178971 ,  0.64886498,  0.9696183 , -1.19316059,\n",
       "        0.92602063, -0.93132649,  0.39983961,  0.31353097, -0.37485924,\n",
       "       -0.00381807, -0.14955398, -0.01756953,  0.38216424, -1.61415348,\n",
       "       -0.26120771,  1.59032198, -1.24312419, -0.01899241, -0.50706471,\n",
       "       -2.34282097, -1.48343932, -1.04162386,  0.20318909,  0.14403233,\n",
       "       -1.26100437, -0.6395999 ,  0.77036993, -1.31294354,  0.76091384,\n",
       "       -2.18212476,  0.22613429, -1.02752075, -0.67041701, -1.52430473,\n",
       "       -0.09022586,  0.84699605, -1.3290339 , -0.2064245 , -0.1053243 ,\n",
       "       -0.06587343,  1.30753764,  0.24578279, -1.40876277,  0.18734761,\n",
       "        1.05017029, -0.79409158,  0.0649773 , -0.44674433, -1.26407153,\n",
       "        1.08010189,  1.29400065, -0.59533196, -2.31015867,  1.28732251,\n",
       "        0.16707236, -0.64703462, -0.32236392, -0.42271022,  0.25524282,\n",
       "       -0.24685103,  0.49621532, -1.31805176,  0.8009111 , -0.43216341,\n",
       "        0.72677245, -0.49578661, -0.55317441, -0.3675613 , -0.78871282,\n",
       "        0.79838544,  0.60873333, -2.47655136,  1.14019874, -2.20591661])"
      ]
     },
     "execution_count": 27,
     "metadata": {},
     "output_type": "execute_result"
    }
   ],
   "source": [
    "np.array(alist).T[0]"
   ]
  },
  {
   "cell_type": "code",
   "execution_count": null,
   "id": "6e4815a6",
   "metadata": {},
   "outputs": [],
   "source": []
  }
 ],
 "metadata": {
  "kernelspec": {
   "display_name": "Python 3 (ipykernel)",
   "language": "python",
   "name": "python3"
  },
  "language_info": {
   "codemirror_mode": {
    "name": "ipython",
    "version": 3
   },
   "file_extension": ".py",
   "mimetype": "text/x-python",
   "name": "python",
   "nbconvert_exporter": "python",
   "pygments_lexer": "ipython3",
   "version": "3.7.11"
  }
 },
 "nbformat": 4,
 "nbformat_minor": 5
}
