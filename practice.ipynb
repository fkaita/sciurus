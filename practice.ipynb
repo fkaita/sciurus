{
 "cells": [
  {
   "cell_type": "code",
   "execution_count": 2,
   "id": "3c8efade",
   "metadata": {},
   "outputs": [],
   "source": [
    "import numpy as np"
   ]
  },
  {
   "cell_type": "code",
   "execution_count": 31,
   "id": "f022e8ac",
   "metadata": {},
   "outputs": [],
   "source": [
    "x = np.random.normal(1,1,100)\n",
    "y = np.random.normal(1,2,100)\n",
    "H, _, _ = np.histogram2d(x, y, bins=(10, 10))"
   ]
  },
  {
   "cell_type": "code",
   "execution_count": 13,
   "id": "7b4041ea",
   "metadata": {},
   "outputs": [],
   "source": [
    "result = np.where(H == np.amax(H))"
   ]
  },
  {
   "cell_type": "code",
   "execution_count": 15,
   "id": "c19fe3b0",
   "metadata": {},
   "outputs": [
    {
     "data": {
      "text/plain": [
       "array([[1., 0., 0., 0., 2., 1., 0., 0., 0., 0.],\n",
       "       [1., 0., 0., 0., 0., 0., 1., 0., 1., 0.],\n",
       "       [1., 1., 2., 0., 2., 2., 0., 0., 1., 0.],\n",
       "       [1., 4., 5., 4., 5., 7., 4., 0., 0., 0.],\n",
       "       [1., 4., 2., 4., 2., 8., 2., 2., 0., 1.],\n",
       "       [0., 1., 3., 2., 3., 4., 0., 0., 1., 1.],\n",
       "       [0., 1., 0., 1., 2., 3., 2., 1., 0., 0.],\n",
       "       [0., 0., 0., 0., 0., 0., 0., 0., 0., 0.],\n",
       "       [0., 0., 1., 0., 1., 0., 0., 0., 0., 0.],\n",
       "       [0., 0., 1., 0., 0., 0., 0., 0., 0., 0.]])"
      ]
     },
     "execution_count": 15,
     "metadata": {},
     "output_type": "execute_result"
    }
   ],
   "source": [
    "H"
   ]
  },
  {
   "cell_type": "code",
   "execution_count": 40,
   "id": "c9160d84",
   "metadata": {},
   "outputs": [
    {
     "data": {
      "text/plain": [
       "array([4])"
      ]
     },
     "execution_count": 40,
     "metadata": {},
     "output_type": "execute_result"
    }
   ],
   "source": [
    "result[0]"
   ]
  },
  {
   "cell_type": "code",
   "execution_count": 22,
   "id": "8708472d",
   "metadata": {},
   "outputs": [],
   "source": [
    "alist = []\n",
    "for i in range(100):\n",
    "    alist.append([np.random.randn(),np.random.randn()])"
   ]
  },
  {
   "cell_type": "code",
   "execution_count": 41,
   "id": "9f63f2f1",
   "metadata": {},
   "outputs": [],
   "source": [
    "import math"
   ]
  },
  {
   "cell_type": "code",
   "execution_count": 42,
   "id": "803908da",
   "metadata": {},
   "outputs": [
    {
     "data": {
      "text/plain": [
       "-4.0"
      ]
     },
     "execution_count": 42,
     "metadata": {},
     "output_type": "execute_result"
    }
   ],
   "source": [
    "math.copysign(4, -1)"
   ]
  },
  {
   "cell_type": "code",
   "execution_count": 20,
   "id": "d95d59d6",
   "metadata": {},
   "outputs": [
    {
     "data": {
      "text/plain": [
       "array([[ 30. , -20. ],\n",
       "       [ 26.7, -16.7],\n",
       "       [ 23.3, -13.3],\n",
       "       [ 20. , -10. ]])"
      ]
     },
     "execution_count": 20,
     "metadata": {},
     "output_type": "execute_result"
    }
   ],
   "source": [
    "current_angle = np.array([30,-20])\n",
    "target_angle = np.array([20,-10])\n",
    "update_gap = 3\n",
    "\n",
    "updates = [[],[]]\n",
    "\n",
    "diff_angle = target_angle - current_angle\n",
    "\n",
    "update_n = np.ceil( np.max(np.abs(diff_angle)) / update_gap )\n",
    "\n",
    "np.round(np.linspace(current_angle, target_angle, int(update_n)),decimals=1)"
   ]
  },
  {
   "cell_type": "code",
   "execution_count": null,
   "id": "e3c8bb4b",
   "metadata": {},
   "outputs": [],
   "source": []
  }
 ],
 "metadata": {
  "kernelspec": {
   "display_name": "Python 3 (ipykernel)",
   "language": "python",
   "name": "python3"
  },
  "language_info": {
   "codemirror_mode": {
    "name": "ipython",
    "version": 3
   },
   "file_extension": ".py",
   "mimetype": "text/x-python",
   "name": "python",
   "nbconvert_exporter": "python",
   "pygments_lexer": "ipython3",
   "version": "3.7.11"
  }
 },
 "nbformat": 4,
 "nbformat_minor": 5
}
